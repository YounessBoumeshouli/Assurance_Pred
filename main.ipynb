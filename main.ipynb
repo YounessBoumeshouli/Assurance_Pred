{
 "cells": [
  {
   "metadata": {},
   "cell_type": "markdown",
   "source": "Importer les données à l'aide de la bibliothèque Pandas.",
   "id": "d80ea4f654a3bd8c"
  },
  {
   "metadata": {
    "collapsed": true
   },
   "cell_type": "code",
   "source": "pip install pandas",
   "id": "edad376d70e2edd1",
   "outputs": [],
   "execution_count": null
  },
  {
   "metadata": {},
   "cell_type": "code",
   "source": [
    "import pandas as pd\n",
    "df =  pd.read_csv(\"assurance-maladie.csv\")\n",
    "print(df)"
   ],
   "id": "3aae4be4dc2fc621",
   "outputs": [],
   "execution_count": null
  },
  {
   "metadata": {},
   "cell_type": "code",
   "source": "print(df.info())",
   "id": "7814cd54638bd0c0",
   "outputs": [],
   "execution_count": null
  },
  {
   "metadata": {},
   "cell_type": "markdown",
   "source": "Comprendre la structure générale du jeu de données (types de données, dimensions, aperçus).",
   "id": "810913ffbdc8521f"
  },
  {
   "metadata": {},
   "cell_type": "code",
   "source": "print(df.describe())",
   "id": "433417772ab9cf66",
   "outputs": [],
   "execution_count": null
  },
  {
   "metadata": {},
   "cell_type": "code",
   "source": [
    "numeriques = df.select_dtypes(include=[\"int64\", \"float64\"])\n",
    "print(numeriques.median())"
   ],
   "id": "a3570330787a2b77",
   "outputs": [],
   "execution_count": null
  },
  {
   "metadata": {},
   "cell_type": "code",
   "source": "",
   "id": "20fe82d4423c935b",
   "outputs": [],
   "execution_count": null
  },
  {
   "metadata": {},
   "cell_type": "code",
   "source": [
    "categoriques = df.select_dtypes(include=[\"object\", \"float64\"])\n",
    "print(categoriques.describe())"
   ],
   "id": "bfcde11a9460e051",
   "outputs": [],
   "execution_count": null
  },
  {
   "metadata": {},
   "cell_type": "code",
   "source": [
    "for i in categoriques :\n",
    "    freq = df.groupby([i]).count()\n",
    "    print(freq)\n"
   ],
   "id": "3d9235b73332fc98",
   "outputs": [],
   "execution_count": null
  },
  {
   "metadata": {},
   "cell_type": "code",
   "source": [
    "NullCount = df.isnull().sum()\n",
    "print(NullCount)"
   ],
   "id": "790da7b2d04c6ba9",
   "outputs": [],
   "execution_count": null
  },
  {
   "metadata": {},
   "cell_type": "code",
   "source": [
    "Duplicated = df.duplicated(subset=[\"sex\"])\n",
    "print(Duplicated)"
   ],
   "id": "e5635c7895f0a4f9",
   "outputs": [],
   "execution_count": null
  },
  {
   "metadata": {},
   "cell_type": "code",
   "source": [
    "print(\"Nombre de doublons :\", df.duplicated().sum())\n",
    "\n",
    "print(df[df.duplicated()])\n"
   ],
   "id": "23deaea6fafc3e99",
   "outputs": [],
   "execution_count": null
  },
  {
   "metadata": {},
   "cell_type": "code",
   "source": [
    "\n",
    "print(df[df.isnull().any(axis = 1)])\n",
    "\n",
    "\n",
    "# testing Jira"
   ],
   "id": "710a7cec5436f7a7",
   "outputs": [],
   "execution_count": null
  },
  {
   "metadata": {},
   "cell_type": "code",
   "source": "",
   "id": "bda01a3b6e26ad24",
   "outputs": [],
   "execution_count": null
  },
  {
   "metadata": {},
   "cell_type": "code",
   "source": [
    "Duplicated = df.duplicated(subset=[\"sex\"])\n",
    "print(Duplicated)"
   ],
   "id": "577ea87ebbb4349",
   "outputs": [],
   "execution_count": null
  },
  {
   "metadata": {},
   "cell_type": "code",
   "source": "",
   "id": "6d528ffd932fd048",
   "outputs": [],
   "execution_count": null
  },
  {
   "metadata": {},
   "cell_type": "code",
   "source": [
    "print(\"Nombre de doublons :\", df.duplicated().sum())\n",
    "\n",
    "print(df[df.duplicated(keep=False)])"
   ],
   "id": "42bc27566b0e9ae3",
   "outputs": [],
   "execution_count": null
  },
  {
   "metadata": {},
   "cell_type": "code",
   "source": "",
   "id": "b4136a23402b4e7",
   "outputs": [],
   "execution_count": null
  },
  {
   "metadata": {},
   "cell_type": "code",
   "source": "print(df[df.isnull().any(axis = 1)])\n",
   "id": "492e167f1d82d869",
   "outputs": [],
   "execution_count": null
  },
  {
   "metadata": {},
   "cell_type": "code",
   "source": [
    "import matplotlib.pyplot as plt\n",
    "import seaborn as sns\n",
    "numeriques = df.select_dtypes(include=[\"int64\", \"float64\"])"
   ],
   "id": "18d4d72db0ad0e3e",
   "outputs": [],
   "execution_count": null
  },
  {
   "metadata": {},
   "cell_type": "code",
   "source": [
    "for col in numeriques.columns:\n",
    "    plt.show()\n",
    "    sns.histplot(df[col], kde=True, bins=30, color='skyblue')\n",
    "    plt.title(f'Distribution de {col}')\n",
    "    plt.xlabel(col)\n",
    "    plt.ylabel('Fréquence')\n",
    "    plt.grid(True)\n",
    "    plt.tight_layout()\n",
    "    plt.show()"
   ],
   "id": "62427a4211decfa3",
   "outputs": [],
   "execution_count": null
  },
  {
   "metadata": {},
   "cell_type": "code",
   "source": [
    "correlation_matrix = df.corr(numeric_only=True)\n",
    "print(correlation_matrix)\n"
   ],
   "id": "9ccc8a035f12ebc3",
   "outputs": [],
   "execution_count": null
  },
  {
   "metadata": {},
   "cell_type": "code",
   "source": [
    "import seaborn as sns\n",
    "import matplotlib.pyplot as plt\n",
    "\n",
    "plt.figure(figsize=(10, 8))\n",
    "sns.heatmap(correlation_matrix, annot=True, cmap='coolwarm', fmt=\".2f\", linewidths=0.5)\n",
    "plt.title(\"Matrice de corrélation\")\n",
    "plt.tight_layout()\n",
    "plt.show()\n",
    "df.hist()"
   ],
   "id": "50b8e108786772be",
   "outputs": [],
   "execution_count": null
  },
  {
   "metadata": {},
   "cell_type": "code",
   "source": "sns.pairplot(df[[\"age\",\"bmi\",\"children\",\"charges\"]])",
   "id": "7966c31715359d5f",
   "outputs": [],
   "execution_count": null
  },
  {
   "metadata": {},
   "cell_type": "code",
   "source": [
    "strong_corr = correlation_matrix[(correlation_matrix > 0.7) | (correlation_matrix < -0.7)]\n",
    "print(strong_corr)"
   ],
   "id": "9c7ae80c65961707",
   "outputs": [],
   "execution_count": null
  },
  {
   "metadata": {},
   "cell_type": "code",
   "source": [
    "import statistics\n",
    "for i in numeriques :\n",
    "    mediane = df[i].median()\n",
    "    df.loc[:, i] = df[i].fillna(mediane)\n",
    "for i in categoriques :\n",
    "    statistics.mode(df)\n"
   ],
   "id": "8967daa602479d63",
   "outputs": [],
   "execution_count": null
  },
  {
   "metadata": {},
   "cell_type": "code",
   "source": [
    "print(\"Nombre de doublons :\", df.duplicated().sum())\n",
    "\n",
    "print(df[df.duplicated()].index[0])\n",
    "df.drop(index=df[df.duplicated()].index[0], inplace=True)\n"
   ],
   "id": "67b4618d451de86e",
   "outputs": [],
   "execution_count": null
  }
 ],
 "metadata": {
  "kernelspec": {
   "display_name": "Python 3",
   "language": "python",
   "name": "python3"
  },
  "language_info": {
   "codemirror_mode": {
    "name": "ipython",
    "version": 2
   },
   "file_extension": ".py",
   "mimetype": "text/x-python",
   "name": "python",
   "nbconvert_exporter": "python",
   "pygments_lexer": "ipython2",
   "version": "2.7.6"
  }
 },
 "nbformat": 4,
 "nbformat_minor": 5
}
